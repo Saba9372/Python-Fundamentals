{
 "cells": [
  {
   "cell_type": "markdown",
   "id": "460a4274",
   "metadata": {},
   "source": [
    "# Loading Data\n",
    "Now that we are more familiar with the NumPy and Pandas packages, we can start loading data into Python to start working with. We can load data into our notebook a few different ways. Four different ways that we'll look at in this notebook are:\n",
    "1. Generating data within our notebook using `np.arange()`\n",
    "2. Generating data within our notebook using `np.random` functions\n",
    "3. Importing external data into our notebook using Pandas DataReader\n",
    "4. Importing an external .csv file into our notebook"
   ]
  },
  {
   "cell_type": "markdown",
   "id": "1d08123d",
   "metadata": {},
   "source": [
    "## Generating Data with NumPy arange\n",
    "\n",
    "In the last chapter, we demonstrated how to create numpy arrays by providing all the values in an array. Numpy also allows us to more efficiently generate a range of values. Let's first look at the `arange()` function that creates a range of intervals. The value 30 that we put inside the parentheses is the ending interval of the array. This means that Array_3 will start at 0, and end before 30."
   ]
  },
  {
   "cell_type": "code",
   "execution_count": 2,
   "id": "7254a751",
   "metadata": {},
   "outputs": [
    {
     "data": {
      "text/plain": [
       "array([ 0,  1,  2,  3,  4,  5,  6,  7,  8,  9, 10, 11, 12, 13, 14, 15, 16,\n",
       "       17, 18, 19, 20, 21, 22, 23, 24, 25, 26, 27, 28, 29])"
      ]
     },
     "execution_count": 2,
     "metadata": {},
     "output_type": "execute_result"
    }
   ],
   "source": [
    "import numpy as np\n",
    "Array_3 = np.arange(30)\n",
    "Array_3"
   ]
  },
  {
   "cell_type": "markdown",
   "id": "67a5e9ce",
   "metadata": {},
   "source": [
    "We can also provide a starting interval, in this case 3, and an ending interval, in this case 7. This array starts at 3 and ends before 7."
   ]
  },
  {
   "cell_type": "code",
   "execution_count": 4,
   "id": "73f3a0e1",
   "metadata": {},
   "outputs": [
    {
     "data": {
      "text/plain": [
       "array([3, 4, 5, 6])"
      ]
     },
     "execution_count": 4,
     "metadata": {},
     "output_type": "execute_result"
    }
   ],
   "source": [
    "np.arange(3,7)"
   ]
  },
  {
   "cell_type": "markdown",
   "id": "620fb724",
   "metadata": {},
   "source": [
    "Another information we can add is a step. For example, let's create an array starting at 1, ending at 10, and the 2 step means the range runs every other number. And again, it goes up to but not the last value."
   ]
  },
  {
   "cell_type": "code",
   "execution_count": 6,
   "id": "fd17e30e",
   "metadata": {},
   "outputs": [
    {
     "data": {
      "text/plain": [
       "array([1, 3, 5, 7, 9])"
      ]
     },
     "execution_count": 6,
     "metadata": {},
     "output_type": "execute_result"
    }
   ],
   "source": [
    "# Arrange (starting interval, ending interval, step)\n",
    "np.arange(1,10,2)"
   ]
  },
  {
   "cell_type": "markdown",
   "id": "24226c03",
   "metadata": {},
   "source": [
    "The last two examples are arrays consists of a range of integers. We can also gather a range of float values within an interval. For this purpose we'll use the `linspace()` function. This function includes a starting value, an ending value, and the number of items in this array. This example will return 20 values evenly spaced between 0 to 5."
   ]
  },
  {
   "cell_type": "code",
   "execution_count": 8,
   "id": "835ff3e2",
   "metadata": {},
   "outputs": [
    {
     "data": {
      "text/plain": [
       "array([0.        , 0.26315789, 0.52631579, 0.78947368, 1.05263158,\n",
       "       1.31578947, 1.57894737, 1.84210526, 2.10526316, 2.36842105,\n",
       "       2.63157895, 2.89473684, 3.15789474, 3.42105263, 3.68421053,\n",
       "       3.94736842, 4.21052632, 4.47368421, 4.73684211, 5.        ])"
      ]
     },
     "execution_count": 8,
     "metadata": {},
     "output_type": "execute_result"
    }
   ],
   "source": [
    "# Gathering a range of values within an interval can also be done.\n",
    "np.linspace(0,5,20)"
   ]
  },
  {
   "cell_type": "markdown",
   "id": "e6b7082e",
   "metadata": {},
   "source": [
    "A range has similar properties as lists and other numpy arrays when it comes to indexing. Let's use Array_3 that we created earlier as an example. To call the 5th value within the array, we call index 4 in the square brackes."
   ]
  },
  {
   "cell_type": "code",
   "execution_count": 10,
   "id": "055918cd",
   "metadata": {},
   "outputs": [
    {
     "data": {
      "text/plain": [
       "4"
      ]
     },
     "execution_count": 10,
     "metadata": {},
     "output_type": "execute_result"
    }
   ],
   "source": [
    "Array_3[4]"
   ]
  },
  {
   "cell_type": "markdown",
   "id": "ec137774",
   "metadata": {},
   "source": [
    "## Generating Data with NumPy random\n",
    "\n",
    "There are a lot of functions that allow us to generate randomized values in a numpy array. Let start with `random.rand` function. It generates random floats from 0 to 1. In the parentheses we can put how many numbers we want to generate. In this example we generated 10 random floats."
   ]
  },
  {
   "cell_type": "code",
   "execution_count": 12,
   "id": "b3ffccdd",
   "metadata": {},
   "outputs": [
    {
     "data": {
      "text/plain": [
       "array([0.84825325, 0.81861156, 0.31748585, 0.65445511, 0.95175537,\n",
       "       0.40291068, 0.89169376, 0.12857407, 0.49741218, 0.30353712])"
      ]
     },
     "execution_count": 12,
     "metadata": {},
     "output_type": "execute_result"
    }
   ],
   "source": [
    "#creating an array of random floats\n",
    "np.random.rand(10)"
   ]
  },
  {
   "cell_type": "markdown",
   "id": "c94a3a68",
   "metadata": {},
   "source": [
    "Another function we can use is the `random.randint` function. It can be used to gather a random integer within a range. In this example, we will have a random whole number between 10 and 20. It is important to note that this function includes 10 up to 19.  Fixed the code downwards on all other examples."
   ]
  },
  {
   "cell_type": "code",
   "execution_count": 14,
   "id": "658d528a",
   "metadata": {},
   "outputs": [
    {
     "data": {
      "text/plain": [
       "13"
      ]
     },
     "execution_count": 14,
     "metadata": {},
     "output_type": "execute_result"
    }
   ],
   "source": [
    "# gathering a random interger within a range\n",
    "np.random.randint(10,20)"
   ]
  },
  {
   "cell_type": "markdown",
   "id": "765e2a4e",
   "metadata": {},
   "source": [
    "If we add a number in the end, we can generate a number of random integers wthin this range. This example creates an array of 5 integers in between 10 and 20. We might get repeatative values from the random functions."
   ]
  },
  {
   "cell_type": "code",
   "execution_count": 16,
   "id": "e11dbd99",
   "metadata": {},
   "outputs": [
    {
     "data": {
      "text/plain": [
       "array([15, 19, 16, 13, 13])"
      ]
     },
     "execution_count": 16,
     "metadata": {},
     "output_type": "execute_result"
    }
   ],
   "source": [
    "#gathering an array of random intergers within a range\n",
    "np.random.randint(10,21,5)"
   ]
  },
  {
   "cell_type": "markdown",
   "id": "f305a5fb",
   "metadata": {},
   "source": [
    "We can also create a random matrix by providing a shape. For example, let's create an array of integers in between 1 and 100, the matrix contains 2 rows and 4 columns. "
   ]
  },
  {
   "cell_type": "code",
   "execution_count": 18,
   "id": "8703c9b4",
   "metadata": {},
   "outputs": [
    {
     "data": {
      "text/plain": [
       "array([[39, 55, 97, 14],\n",
       "       [20, 50, 92, 11]])"
      ]
     },
     "execution_count": 18,
     "metadata": {},
     "output_type": "execute_result"
    }
   ],
   "source": [
    "np.random.randint(1,101,(2,4))"
   ]
  },
  {
   "cell_type": "markdown",
   "id": "77ec4061",
   "metadata": {},
   "source": [
    "Since all the numbers are randomly generated, if we run all of these functions again we're likely to get completely different values. If we want to generate a random number and keep it throughout a model, we can use the seed function.\n",
    "\n",
    "Seed function tells Python under the hood to \"randomize\" from the same method for any computer.  So, it basically eliminates randomness.  We would do this to ensure reproducibiliy.  But in production, randomization helps in forecasting, so you could disable seed there."
   ]
  },
  {
   "cell_type": "code",
   "execution_count": 30,
   "id": "d86979b9",
   "metadata": {},
   "outputs": [
    {
     "data": {
      "text/plain": [
       "array([0.18026969, 0.01947524, 0.46321853])"
      ]
     },
     "execution_count": 30,
     "metadata": {},
     "output_type": "execute_result"
    }
   ],
   "source": [
    "#fixing the randomizer to get the same random values for reproduction\n",
    "np.random.seed(11)\n",
    "np.random.rand(3)"
   ]
  },
  {
   "cell_type": "markdown",
   "id": "23ddba77",
   "metadata": {},
   "source": [
    "If we remove the seed line, we'll get 3 different values every time we run the code."
   ]
  },
  {
   "cell_type": "code",
   "execution_count": 28,
   "id": "dda0bf13",
   "metadata": {},
   "outputs": [
    {
     "data": {
      "text/plain": [
       "array([0.01278081, 0.48737161, 0.94180665])"
      ]
     },
     "execution_count": 28,
     "metadata": {},
     "output_type": "execute_result"
    }
   ],
   "source": [
    "#without the seed\n",
    "np.random.rand(3)"
   ]
  },
  {
   "cell_type": "markdown",
   "id": "ae175383",
   "metadata": {},
   "source": [
    "If we run the same code again, adding back the seed, we get the same result."
   ]
  },
  {
   "cell_type": "code",
   "execution_count": 32,
   "id": "971677af",
   "metadata": {},
   "outputs": [
    {
     "data": {
      "text/plain": [
       "array([0.18026969, 0.01947524, 0.46321853])"
      ]
     },
     "execution_count": 32,
     "metadata": {},
     "output_type": "execute_result"
    }
   ],
   "source": [
    "np.random.seed(11)\n",
    "np.random.rand(3)"
   ]
  },
  {
   "cell_type": "markdown",
   "id": "3d23f70d",
   "metadata": {},
   "source": [
    "## Importing External Data with Pandas DataReader\n",
    "\n",
    "Rather than defining our data manually, we can leverage functionality within Pandas to connect to and import external data into our notebook.\n",
    "\n",
    "Functions from `pandas_datareader.data` extract external data from the web into a Pandas DataFrame. We'll look at an example of using datareader to import financial data from Naver."
   ]
  },
  {
   "cell_type": "code",
   "execution_count": 34,
   "id": "c0ffef37",
   "metadata": {},
   "outputs": [
    {
     "ename": "ModuleNotFoundError",
     "evalue": "No module named 'pandas_datareader'",
     "output_type": "error",
     "traceback": [
      "\u001b[1;31m---------------------------------------------------------------------------\u001b[0m",
      "\u001b[1;31mModuleNotFoundError\u001b[0m                       Traceback (most recent call last)",
      "Cell \u001b[1;32mIn[34], line 3\u001b[0m\n\u001b[0;32m      1\u001b[0m \u001b[38;5;66;03m# Import Packages\u001b[39;00m\n\u001b[0;32m      2\u001b[0m \u001b[38;5;28;01mimport\u001b[39;00m \u001b[38;5;21;01mpandas\u001b[39;00m \u001b[38;5;28;01mas\u001b[39;00m \u001b[38;5;21;01mpd\u001b[39;00m\n\u001b[1;32m----> 3\u001b[0m \u001b[38;5;28;01mimport\u001b[39;00m \u001b[38;5;21;01mpandas_datareader\u001b[39;00m\u001b[38;5;21;01m.\u001b[39;00m\u001b[38;5;21;01mdata\u001b[39;00m \u001b[38;5;28;01mas\u001b[39;00m \u001b[38;5;21;01mpdr\u001b[39;00m\n\u001b[0;32m      5\u001b[0m \u001b[38;5;66;03m# The second argument is the data source we want to connect to - in our example it's naver\u001b[39;00m\n\u001b[0;32m      6\u001b[0m \n\u001b[0;32m      7\u001b[0m \u001b[38;5;66;03m# The first argument is the specific stock or index we want to retrive data for\u001b[39;00m\n\u001b[0;32m      8\u001b[0m \u001b[38;5;66;03m# 005930 corresponds to Samsung on the KOSPI index\u001b[39;00m\n\u001b[0;32m      9\u001b[0m \n\u001b[0;32m     10\u001b[0m \u001b[38;5;66;03m# We also need to define the start and end date for the days of information that we want to import into our DataFrame\u001b[39;00m\n\u001b[0;32m     12\u001b[0m pdr\u001b[38;5;241m.\u001b[39mDataReader(\u001b[38;5;124m'\u001b[39m\u001b[38;5;124m005930\u001b[39m\u001b[38;5;124m'\u001b[39m, \u001b[38;5;124m'\u001b[39m\u001b[38;5;124mnaver\u001b[39m\u001b[38;5;124m'\u001b[39m, \u001b[38;5;124m'\u001b[39m\u001b[38;5;124m2022-01-01\u001b[39m\u001b[38;5;124m'\u001b[39m, \u001b[38;5;124m'\u001b[39m\u001b[38;5;124m2022-01-31\u001b[39m\u001b[38;5;124m'\u001b[39m)\n",
      "\u001b[1;31mModuleNotFoundError\u001b[0m: No module named 'pandas_datareader'"
     ]
    }
   ],
   "source": [
    "# Import Packages\n",
    "import pandas as pd\n",
    "import pandas_datareader.data as pdr\n",
    "\n",
    "# The second argument is the data source we want to connect to - in our example it's naver\n",
    "\n",
    "# The first argument is the specific stock or index we want to retrive data for\n",
    "# 005930 corresponds to Samsung on the KOSPI index\n",
    "\n",
    "# We also need to define the start and end date for the days of information that we want to import into our DataFrame\n",
    "\n",
    "pdr.DataReader('005930', 'naver', '2022-01-01', '2022-01-31')"
   ]
  },
  {
   "cell_type": "markdown",
   "id": "bf57ec2f",
   "metadata": {},
   "source": [
    "We can use functions from the `yfinance` package to connect to yahoo finance data for a particular stock, in this case an ETF that tracks the S&P 500 stock market index. This time we can define our arguments outside of the function. This will make them easier to find and change in the future. We can also store the resulting DataFrame for future use in our notebook."
   ]
  },
  {
   "cell_type": "code",
   "execution_count": 38,
   "id": "f428b781",
   "metadata": {},
   "outputs": [
    {
     "ename": "ModuleNotFoundError",
     "evalue": "No module named 'yfinance'",
     "output_type": "error",
     "traceback": [
      "\u001b[1;31m---------------------------------------------------------------------------\u001b[0m",
      "\u001b[1;31mModuleNotFoundError\u001b[0m                       Traceback (most recent call last)",
      "Cell \u001b[1;32mIn[38], line 2\u001b[0m\n\u001b[0;32m      1\u001b[0m \u001b[38;5;66;03m# Import yfinance for yahoo data\u001b[39;00m\n\u001b[1;32m----> 2\u001b[0m \u001b[38;5;28;01mimport\u001b[39;00m \u001b[38;5;21;01myfinance\u001b[39;00m \u001b[38;5;28;01mas\u001b[39;00m \u001b[38;5;21;01myf\u001b[39;00m\n\u001b[0;32m      4\u001b[0m stock \u001b[38;5;241m=\u001b[39m \u001b[38;5;124m'\u001b[39m\u001b[38;5;124mSPY\u001b[39m\u001b[38;5;124m'\u001b[39m\n\u001b[0;32m      5\u001b[0m startdate \u001b[38;5;241m=\u001b[39m \u001b[38;5;124m'\u001b[39m\u001b[38;5;124m2022-01-01\u001b[39m\u001b[38;5;124m'\u001b[39m\n",
      "\u001b[1;31mModuleNotFoundError\u001b[0m: No module named 'yfinance'"
     ]
    }
   ],
   "source": [
    "# Import yfinance for yahoo data\n",
    "import yfinance as yf\n",
    "\n",
    "stock = 'SPY'\n",
    "startdate = '2022-01-01'\n",
    "enddate = '2022-01-31'\n",
    "\n",
    "stocks_df = yf.download(stock, start=startdate,end=enddate)\n",
    "\n",
    "print(stocks_df)"
   ]
  },
  {
   "cell_type": "markdown",
   "id": "a6b89af5",
   "metadata": {},
   "source": [
    "## Importing External .csv\n",
    "\n",
    "One of the more powerful ways of creating a DataFrame is to import a .csv file. This will save tremendous amount of time in recreating a data source in Python and allow Python to read the data in. We can use the `pd.read.csv()` function to do this.\n",
    "\n",
    "When using this function, either the relative file path or the complete file path must be submitted between quotation marks. For a relative file path, if the csv. file is in the same working directory folder as the notebook, you can simply submit the file name with the csv. suffix. \n",
    "\n",
    "If the file is in another folder, then you must provide extra information of the path pandas should take to refer to the file (ie. 'datafolder/Data Source.csv')."
   ]
  },
  {
   "cell_type": "code",
   "execution_count": 40,
   "id": "a5f64653",
   "metadata": {},
   "outputs": [
    {
     "data": {
      "text/html": [
       "<div>\n",
       "<style scoped>\n",
       "    .dataframe tbody tr th:only-of-type {\n",
       "        vertical-align: middle;\n",
       "    }\n",
       "\n",
       "    .dataframe tbody tr th {\n",
       "        vertical-align: top;\n",
       "    }\n",
       "\n",
       "    .dataframe thead th {\n",
       "        text-align: right;\n",
       "    }\n",
       "</style>\n",
       "<table border=\"1\" class=\"dataframe\">\n",
       "  <thead>\n",
       "    <tr style=\"text-align: right;\">\n",
       "      <th></th>\n",
       "      <th>Store</th>\n",
       "      <th>Date</th>\n",
       "      <th>CategoryID</th>\n",
       "      <th>ProductID</th>\n",
       "      <th>Q1</th>\n",
       "      <th>Q2</th>\n",
       "      <th>Q3</th>\n",
       "      <th>Q4</th>\n",
       "    </tr>\n",
       "  </thead>\n",
       "  <tbody>\n",
       "    <tr>\n",
       "      <th>0</th>\n",
       "      <td>1</td>\n",
       "      <td>3/10/2019 0:00:00</td>\n",
       "      <td>1</td>\n",
       "      <td>11XXRP-P</td>\n",
       "      <td>24924.50</td>\n",
       "      <td>46039.49</td>\n",
       "      <td>41595.55</td>\n",
       "      <td>NaN</td>\n",
       "    </tr>\n",
       "    <tr>\n",
       "      <th>1</th>\n",
       "      <td>1</td>\n",
       "      <td>6/4/2019 0:00:00</td>\n",
       "      <td>2</td>\n",
       "      <td>12XXRP-Q</td>\n",
       "      <td>50605.27</td>\n",
       "      <td>44682.74</td>\n",
       "      <td>47928.89</td>\n",
       "      <td>NaN</td>\n",
       "    </tr>\n",
       "    <tr>\n",
       "      <th>2</th>\n",
       "      <td>1</td>\n",
       "      <td>1/16/2019 0:00:00</td>\n",
       "      <td>3</td>\n",
       "      <td>13XXRP</td>\n",
       "      <td>13740.12</td>\n",
       "      <td>10887.84</td>\n",
       "      <td>11523.47</td>\n",
       "      <td>NaN</td>\n",
       "    </tr>\n",
       "    <tr>\n",
       "      <th>3</th>\n",
       "      <td>1</td>\n",
       "      <td>10/18/2019 0:00:00</td>\n",
       "      <td>4</td>\n",
       "      <td>14XXRP</td>\n",
       "      <td>39954.04</td>\n",
       "      <td>d35351.21</td>\n",
       "      <td>36826.95</td>\n",
       "      <td>NaN</td>\n",
       "    </tr>\n",
       "    <tr>\n",
       "      <th>4</th>\n",
       "      <td>1</td>\n",
       "      <td>4/11/2019 0:00:00</td>\n",
       "      <td>5</td>\n",
       "      <td>15XXRP-A</td>\n",
       "      <td>32229.38</td>\n",
       "      <td>29620.81</td>\n",
       "      <td>26468.27</td>\n",
       "      <td>NaN</td>\n",
       "    </tr>\n",
       "    <tr>\n",
       "      <th>...</th>\n",
       "      <td>...</td>\n",
       "      <td>...</td>\n",
       "      <td>...</td>\n",
       "      <td>...</td>\n",
       "      <td>...</td>\n",
       "      <td>...</td>\n",
       "      <td>...</td>\n",
       "      <td>...</td>\n",
       "    </tr>\n",
       "    <tr>\n",
       "      <th>1882</th>\n",
       "      <td>40</td>\n",
       "      <td>3/24/2019 0:00:00</td>\n",
       "      <td>44</td>\n",
       "      <td>4044XXRP</td>\n",
       "      <td>3280.00</td>\n",
       "      <td>3556.22</td>\n",
       "      <td>2965.33</td>\n",
       "      <td>3041.41</td>\n",
       "    </tr>\n",
       "    <tr>\n",
       "      <th>1883</th>\n",
       "      <td>40</td>\n",
       "      <td>3/24/2019 0:00:00</td>\n",
       "      <td>44</td>\n",
       "      <td>4044XXRP</td>\n",
       "      <td>3280.00</td>\n",
       "      <td>3556.22</td>\n",
       "      <td>2965.33</td>\n",
       "      <td>3041.41</td>\n",
       "    </tr>\n",
       "    <tr>\n",
       "      <th>1884</th>\n",
       "      <td>40</td>\n",
       "      <td>3/24/2019 0:00:00</td>\n",
       "      <td>44</td>\n",
       "      <td>4044XXRP</td>\n",
       "      <td>3280.00</td>\n",
       "      <td>3556.22</td>\n",
       "      <td>2965.33</td>\n",
       "      <td>3041.41</td>\n",
       "    </tr>\n",
       "    <tr>\n",
       "      <th>1885</th>\n",
       "      <td>40</td>\n",
       "      <td>9/30/2019 0:00:00</td>\n",
       "      <td>49</td>\n",
       "      <td>4049XXRP</td>\n",
       "      <td>0.00</td>\n",
       "      <td>NaN</td>\n",
       "      <td>NaN</td>\n",
       "      <td>-23.99</td>\n",
       "    </tr>\n",
       "    <tr>\n",
       "      <th>1886</th>\n",
       "      <td>40</td>\n",
       "      <td>6/14/2019 0:00:00</td>\n",
       "      <td>43</td>\n",
       "      <td>4093XXRP</td>\n",
       "      <td>31080.68</td>\n",
       "      <td>26600.39</td>\n",
       "      <td>23709.23</td>\n",
       "      <td>22879.37</td>\n",
       "    </tr>\n",
       "  </tbody>\n",
       "</table>\n",
       "<p>1887 rows × 8 columns</p>\n",
       "</div>"
      ],
      "text/plain": [
       "      Store                Date  CategoryID ProductID        Q1         Q2  \\\n",
       "0         1   3/10/2019 0:00:00           1  11XXRP-P  24924.50   46039.49   \n",
       "1         1    6/4/2019 0:00:00           2  12XXRP-Q  50605.27   44682.74   \n",
       "2         1   1/16/2019 0:00:00           3    13XXRP  13740.12   10887.84   \n",
       "3         1  10/18/2019 0:00:00           4    14XXRP  39954.04  d35351.21   \n",
       "4         1   4/11/2019 0:00:00           5  15XXRP-A  32229.38   29620.81   \n",
       "...     ...                 ...         ...       ...       ...        ...   \n",
       "1882     40   3/24/2019 0:00:00          44  4044XXRP   3280.00    3556.22   \n",
       "1883     40   3/24/2019 0:00:00          44  4044XXRP   3280.00    3556.22   \n",
       "1884     40   3/24/2019 0:00:00          44  4044XXRP   3280.00    3556.22   \n",
       "1885     40   9/30/2019 0:00:00          49  4049XXRP      0.00        NaN   \n",
       "1886     40   6/14/2019 0:00:00          43  4093XXRP  31080.68   26600.39   \n",
       "\n",
       "            Q3        Q4  \n",
       "0     41595.55       NaN  \n",
       "1     47928.89       NaN  \n",
       "2     11523.47       NaN  \n",
       "3     36826.95       NaN  \n",
       "4     26468.27       NaN  \n",
       "...        ...       ...  \n",
       "1882   2965.33   3041.41  \n",
       "1883   2965.33   3041.41  \n",
       "1884   2965.33   3041.41  \n",
       "1885       NaN    -23.99  \n",
       "1886  23709.23  22879.37  \n",
       "\n",
       "[1887 rows x 8 columns]"
      ]
     },
     "execution_count": 40,
     "metadata": {},
     "output_type": "execute_result"
    }
   ],
   "source": [
    "#Importing an external .csv using a relative file path\n",
    "dataframe_3 = pd.read_csv('Data Source.csv')\n",
    "\n",
    "dataframe_3"
   ]
  },
  {
   "cell_type": "markdown",
   "id": "24a1eb21",
   "metadata": {},
   "source": [
    "We will continue to work with .csv data in Python in the next section of this chapter. However, much like what we see in a real-world setting, data is not always perfect. We can see that we have errors in our data, such as NaN values and duplicates."
   ]
  }
 ],
 "metadata": {
  "kernelspec": {
   "display_name": "Python [conda env:base] *",
   "language": "python",
   "name": "conda-base-py"
  },
  "language_info": {
   "codemirror_mode": {
    "name": "ipython",
    "version": 3
   },
   "file_extension": ".py",
   "mimetype": "text/x-python",
   "name": "python",
   "nbconvert_exporter": "python",
   "pygments_lexer": "ipython3",
   "version": "3.12.7"
  }
 },
 "nbformat": 4,
 "nbformat_minor": 5
}
